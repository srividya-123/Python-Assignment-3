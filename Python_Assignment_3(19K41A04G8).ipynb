{
  "nbformat": 4,
  "nbformat_minor": 0,
  "metadata": {
    "colab": {
      "name": "Python Assignment - 3(19K41A04G8).ipynb",
      "provenance": [],
      "authorship_tag": "ABX9TyPhOCJB/LuUcRZqMcciM9b5",
      "include_colab_link": true
    },
    "kernelspec": {
      "name": "python3",
      "display_name": "Python 3"
    }
  },
  "cells": [
    {
      "cell_type": "markdown",
      "metadata": {
        "id": "view-in-github",
        "colab_type": "text"
      },
      "source": [
        "<a href=\"https://colab.research.google.com/github/srividya-123/Python-Assignment-3/blob/master/Python_Assignment_3(19K41A04G8).ipynb\" target=\"_parent\"><img src=\"https://colab.research.google.com/assets/colab-badge.svg\" alt=\"Open In Colab\"/></a>"
      ]
    },
    {
      "cell_type": "code",
      "metadata": {
        "id": "NK0Ik0uz7Fev",
        "colab_type": "code",
        "colab": {
          "base_uri": "https://localhost:8080/",
          "height": 85
        },
        "outputId": "6455aafa-6aea-49b7-8828-4608151774ec"
      },
      "source": [
        "#QUESTION 1\n",
        "a=float(input(\"Enter the first side:\")) \n",
        "b=float(input(\"Enter the second side:\")) \n",
        "c=float(input(\"Enter the third side:\"))\n",
        "S=(a+b+c)/2\n",
        "area =(S*(S-a)*(S-b)*(S-c))**0.5\n",
        "print(area)"
      ],
      "execution_count": null,
      "outputs": [
        {
          "output_type": "stream",
          "text": [
            "Enter the first side:9\n",
            "Enter the second side:9\n",
            "Enter the third side:9\n",
            "35.074028853269766\n"
          ],
          "name": "stdout"
        }
      ]
    },
    {
      "cell_type": "code",
      "metadata": {
        "id": "gp0R8gVX-dHk",
        "colab_type": "code",
        "colab": {
          "base_uri": "https://localhost:8080/",
          "height": 71
        },
        "outputId": "e7327bd1-498d-45d1-b73d-5f58afd2fa8c"
      },
      "source": [
        "#QUESTION 2\n",
        "string=input(\"Enter the string taken from end user:\") \n",
        "if(string==string[::-1]):\n",
        "   print(\"{} is a Palindrome\".format(string)) \n",
        "else:\n",
        "   print(\"{} is not Palindrome\".format(string))"
      ],
      "execution_count": null,
      "outputs": [
        {
          "output_type": "stream",
          "text": [
            "Enter the string taken from end user:dad\n",
            "dad is a Palindrome\n"
          ],
          "name": "stdout"
        }
      ]
    },
    {
      "cell_type": "code",
      "metadata": {
        "id": "Gd6_SobzHn8H",
        "colab_type": "code",
        "colab": {
          "base_uri": "https://localhost:8080/",
          "height": 51
        },
        "outputId": "8e55eed6-6a0e-4d21-dfd0-4bfc2dd229aa"
      },
      "source": [
        "#QUESTION 3\n",
        "year=int(input(\"Enter the year:\")) \n",
        "if year%400==0:\n",
        "   print(\"{} is a leap year\".format(year)) \n",
        "elif year%100==0:\n",
        "   print(\"{} is not a leap year\".format(year)) \n",
        "elif year%4==0:\n",
        "   print(\"{} is a leap year\".format(year)) \n",
        "else:\n",
        "   print(\"{} is not a leap year\".format(year))"
      ],
      "execution_count": null,
      "outputs": [
        {
          "output_type": "stream",
          "text": [
            "Enter the year:2020\n",
            "2020 is a leap year\n"
          ],
          "name": "stdout"
        }
      ]
    },
    {
      "cell_type": "code",
      "metadata": {
        "id": "MOPfiynGjF8e",
        "colab_type": "code",
        "colab": {
          "base_uri": "https://localhost:8080/",
          "height": 71
        },
        "outputId": "644f0d75-8a56-4b83-947c-7f45a4d96df4"
      },
      "source": [
        "#QUESTION 4:\n",
        "new_str=input(\"Enter the string:\")\n",
        "str=new_str.replace(\" \", \"-\") \n",
        "print(str)"
      ],
      "execution_count": null,
      "outputs": [
        {
          "output_type": "stream",
          "text": [
            "Enter the string:This program converts spaces into hyphens\n",
            "This-program-converts-spaces-into-hyphens\n"
          ],
          "name": "stdout"
        }
      ]
    },
    {
      "cell_type": "code",
      "metadata": {
        "id": "Jke-qq70YN_G",
        "colab_type": "code",
        "colab": {
          "base_uri": "https://localhost:8080/",
          "height": 71
        },
        "outputId": "ab9caf01-5637-4982-bf42-4491cd4cc54c"
      },
      "source": [
        "#QUESTION 5:\n",
        "def rearrange(str): \n",
        "    str_list=str.split(',')\n",
        "    str_set=set(str_list)\n",
        "    str_list=list(str_set)\n",
        "    str_list.sort() \n",
        "    str=','.join(str_list) \n",
        "    return str\n",
        "str=input(\"Enter the string:\") \n",
        "print(rearrange(str))"
      ],
      "execution_count": null,
      "outputs": [
        {
          "output_type": "stream",
          "text": [
            "Enter the string:orenge,white,red,cyan,green,magenta,cyan,pink,white\n",
            "cyan,green,magenta,orenge,pink,red,white\n"
          ],
          "name": "stdout"
        }
      ]
    },
    {
      "cell_type": "code",
      "metadata": {
        "id": "KJkrimL9nXrd",
        "colab_type": "code",
        "colab": {
          "base_uri": "https://localhost:8080/",
          "height": 51
        },
        "outputId": "7dc8b3d2-42fe-43c6-f653-7047ddc6ec63"
      },
      "source": [
        "#QUESTION 6:\n",
        "salary=int(input(\"Enter the salary:\")) \n",
        "if salary<=250000:\n",
        "   print(\"tax is zero\") \n",
        "elif salary<=500000:\n",
        "   print(\"tax to be paid:\",salary*0.05)\n",
        "elif salary<=750000:\n",
        "   print(\"tax to be paid:\",salary*0.10)\n",
        "elif salary<=1000000:\n",
        "   print(\"tax to be paid:\",salary*0.15)\n",
        "elif salary<=1250000:\n",
        "   print(\"tax to be paid:\",salary*0.20)\n",
        "elif salary<=1500000:\n",
        "   print(\"tax to be paid:\",salary*0.25)\n",
        "else:\n",
        "   print(\"tax to be paid:\",salary*0.30)"
      ],
      "execution_count": null,
      "outputs": [
        {
          "output_type": "stream",
          "text": [
            "Enter the salary:1500000 \n",
            "tax to be paid: 375000.0\n"
          ],
          "name": "stdout"
        }
      ]
    },
    {
      "cell_type": "code",
      "metadata": {
        "id": "EzFpbrXTqCXk",
        "colab_type": "code",
        "colab": {
          "base_uri": "https://localhost:8080/",
          "height": 34
        },
        "outputId": "a4992297-84d5-4a4e-dbe8-ba1bc2560ee7"
      },
      "source": [
        "#QUESTION 7:\n",
        "list = [11,33,50] \n",
        "for n in list :\n",
        "      print(n,end=\"\")"
      ],
      "execution_count": null,
      "outputs": [
        {
          "output_type": "stream",
          "text": [
            "113350"
          ],
          "name": "stdout"
        }
      ]
    },
    {
      "cell_type": "code",
      "metadata": {
        "id": "LQVsdrd_tYBK",
        "colab_type": "code",
        "colab": {
          "base_uri": "https://localhost:8080/",
          "height": 102
        },
        "outputId": "b33b4c8d-4fb7-42c4-c156-51be6486aa6d"
      },
      "source": [
        "#QUESTION 8:\n",
        "D=int(input(\"Enter no of days:\"))\n",
        "d=D*24*60*60\n",
        "H=int(input(\"Enter no of hours:\")) \n",
        "h=H*60*60\n",
        "M=int(input(\"Enter no of minutes:\")) \n",
        "m=M*60\n",
        "s=int(input(\"Enter no of seconds:\")) \n",
        "Total_sec=d+h+m+s\n",
        "print(\"Total no of seconds:\", Total_sec)"
      ],
      "execution_count": null,
      "outputs": [
        {
          "output_type": "stream",
          "text": [
            "Enter no of days:3\n",
            "Enter no of hours:3\n",
            "Enter no of minutes:3\n",
            "Enter no of seconds:9\n",
            "Total no of seconds: 270189\n"
          ],
          "name": "stdout"
        }
      ]
    },
    {
      "cell_type": "code",
      "metadata": {
        "id": "d-lt-AE7wl3D",
        "colab_type": "code",
        "colab": {
          "base_uri": "https://localhost:8080/",
          "height": 85
        },
        "outputId": "f8292e40-6290-4555-a4b1-ee66793c72cb"
      },
      "source": [
        "#QUESTION 9:\n",
        "A=int(input(\"Enter the first number:\")) \n",
        "B=int(input(\"Enter the second number:\")) \n",
        "C=int(input(\"Enter the third number:\")) \n",
        "N=[A,B,C] \n",
        "H=max(N) \n",
        "L=min(N) \n",
        "list=N[0]+N[1]+N[2]-H-L\n",
        "print(H,list,L)"
      ],
      "execution_count": null,
      "outputs": [
        {
          "output_type": "stream",
          "text": [
            "Enter the first number:5\n",
            "Enter the second number:9\n",
            "Enter the third number:3\n",
            "9 5 3\n"
          ],
          "name": "stdout"
        }
      ]
    },
    {
      "cell_type": "code",
      "metadata": {
        "id": "tNPo44HM4YQL",
        "colab_type": "code",
        "colab": {
          "base_uri": "https://localhost:8080/",
          "height": 85
        },
        "outputId": "f1b25123-40c2-48d1-8fca-a6ebedb8b26c"
      },
      "source": [
        "#QUESTION 10:\n",
        "year=int(input(\"Enter the year :\")) \n",
        "month=int(input(\"Enter the month:\")) \n",
        "date=int(input(\"Enter the date:\")) \n",
        "if year%4==0:\n",
        "   Leap_year=True\n",
        "else:\n",
        "   Leap_year=False\n",
        "if month==2:\n",
        "   if Leap_year:\n",
        "      m_days==29\n",
        "   else:\n",
        "      m_days==28\n",
        "elif month in (1,3,5,7,8,10,12):\n",
        "     m_days=31\n",
        "else:\n",
        "     m_days=30\n",
        "if date<m_days:\n",
        "   date=date+1\n",
        "else:\n",
        "   date=1\n",
        "print(f\"[YYY-MM-DD]:{year}-{month}-{date}\")"
      ],
      "execution_count": null,
      "outputs": [
        {
          "output_type": "stream",
          "text": [
            "Enter the year :2020\n",
            "Enter the month:9\n",
            "Enter the date:16\n",
            "[YYY-MM-DD]:2020-9-16\n"
          ],
          "name": "stdout"
        }
      ]
    },
    {
      "cell_type": "code",
      "metadata": {
        "id": "5oT4E15hJjx9",
        "colab_type": "code",
        "colab": {
          "base_uri": "https://localhost:8080/",
          "height": 34
        },
        "outputId": "f4a85322-e162-4735-c479-d91bc1aec226"
      },
      "source": [
        "#QUESTION 11:\n",
        "list=[45,3,2,89,72,1,10,7] \n",
        "def prod(list):\n",
        "    p=1\n",
        "    for n in list:\n",
        "       p*=n\n",
        "    return p\n",
        "print(prod(list))"
      ],
      "execution_count": null,
      "outputs": [
        {
          "output_type": "stream",
          "text": [
            "121111200\n"
          ],
          "name": "stdout"
        }
      ]
    },
    {
      "cell_type": "code",
      "metadata": {
        "id": "jDawInX8RUnL",
        "colab_type": "code",
        "colab": {
          "base_uri": "https://localhost:8080/",
          "height": 34
        },
        "outputId": "9edfb9de-2524-4202-abb3-cf52a38fd6b6"
      },
      "source": [
        "#QUESTION 12:\n",
        "def Num_list(a,b,c,d,e,f):\n",
        "    return a+b,b+c,c+d,d+e,e+f\n",
        "Num_list(5,6,8,34,89,1)"
      ],
      "execution_count": null,
      "outputs": [
        {
          "output_type": "execute_result",
          "data": {
            "text/plain": [
              "(11, 14, 42, 123, 90)"
            ]
          },
          "metadata": {
            "tags": []
          },
          "execution_count": 34
        }
      ]
    },
    {
      "cell_type": "code",
      "metadata": {
        "id": "8Y618uNKatY3",
        "colab_type": "code",
        "colab": {
          "base_uri": "https://localhost:8080/",
          "height": 34
        },
        "outputId": "0c1aa1ef-b512-4100-98ac-62a2c20840ff"
      },
      "source": [
        "#QUESTION 13:\n",
        "def Num_list(a,b,c,d,e,f):\n",
        "    return a,a*b,a*b*c,a*b*c*d,a*b*c*d*e,a*b*c*d*e*f\n",
        "Num_list(5,6,8,3,9,1)"
      ],
      "execution_count": null,
      "outputs": [
        {
          "output_type": "execute_result",
          "data": {
            "text/plain": [
              "(5, 30, 240, 720, 6480, 6480)"
            ]
          },
          "metadata": {
            "tags": []
          },
          "execution_count": 36
        }
      ]
    },
    {
      "cell_type": "code",
      "metadata": {
        "id": "GSA8moa_tQHn",
        "colab_type": "code",
        "colab": {
          "base_uri": "https://localhost:8080/",
          "height": 51
        },
        "outputId": "e5c29a52-2961-4bcf-b27a-09ee87a6da07"
      },
      "source": [
        "#QUESTION 14:\n",
        "n=int(input(\"Enter the number\"))\n",
        "returnlist=[] \n",
        "m=0\n",
        "while n>0:\n",
        "      x=n%10\n",
        "      n=int(n/10)\n",
        "      m=m*10+x\n",
        "while m>0:\n",
        "      x=m%10\n",
        "      m=int(m/10)\n",
        "      returnlist.append(x)\n",
        "print(returnlist)"
      ],
      "execution_count": null,
      "outputs": [
        {
          "output_type": "stream",
          "text": [
            "Enter the number586392\n",
            "[5, 8, 6, 3, 9, 2]\n"
          ],
          "name": "stdout"
        }
      ]
    },
    {
      "cell_type": "code",
      "metadata": {
        "id": "fjX470pNxEQF",
        "colab_type": "code",
        "colab": {
          "base_uri": "https://localhost:8080/",
          "height": 51
        },
        "outputId": "5246bc1e-0de3-477b-f779-9dd5c3b32889"
      },
      "source": [
        "#QUESTION 15:\n",
        "str=input(\"Enter a palindrome:\")\n",
        "def sub(str):\n",
        "  pal1=1 \n",
        "  pal2=0\n",
        "  for n in range(0,len(str)):\n",
        "    for m in range(n+1,len(str)):\n",
        "        if str[n:m]==str[m:n:-1]:\n",
        "           if len(str[n:m])>pal1:\n",
        "              pal1=len(str[n:m]) \n",
        "              palstr=(str[n:m+1]) \n",
        "              pal2=1\n",
        "  if pal2:\n",
        "    return palstr\n",
        "  else:\n",
        "    return \"No string palindrome\"\n",
        "print(sub(str))"
      ],
      "execution_count": null,
      "outputs": [
        {
          "output_type": "stream",
          "text": [
            "Enter a palindrome:Madam\n",
            "ada\n"
          ],
          "name": "stdout"
        }
      ]
    },
    {
      "cell_type": "code",
      "metadata": {
        "id": "dbfFkQykvJIr",
        "colab_type": "code",
        "colab": {
          "base_uri": "https://localhost:8080/",
          "height": 88
        },
        "outputId": "eb12e21c-af4e-4f61-bef6-b1c94fb8bede"
      },
      "source": [
        "#QUESTION 16:\n",
        "A=input(\"Enter the binary no of length 5:\")\n",
        "B=input(\"Enter the binary no of length 10:\")\n",
        "if A[:] in B[:] :\n",
        "   print(1)\n",
        "else:\n",
        "   print(0)"
      ],
      "execution_count": null,
      "outputs": [
        {
          "output_type": "stream",
          "text": [
            "Enter the binary no of length 5:10110\n",
            "Enter the binary no of length 10:1010110010\n",
            "1\n"
          ],
          "name": "stdout"
        }
      ]
    }
  ]
}